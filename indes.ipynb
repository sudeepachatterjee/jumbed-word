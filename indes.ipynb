{
 "cells": [
  {
   "cell_type": "code",
   "execution_count": 1,
   "metadata": {},
   "outputs": [],
   "source": [
    "'''\n",
    "Pyhton Project Ideas of a Beginner\n",
    "Mad Libs Generator \n",
    "'''\n",
    "loop = 1\n",
    "while(loop < 10):\n",
    "    noun = input(\"Choose a noun : \")\n",
    "    p_noun = input(\"Choose a plural noun : \")\n",
    "    noun2 = input(\"Choose a noun : \")\n",
    "    place = input(\"Name a place : \")\n",
    "    adjective = input(\"Choose an adjective (Describing word): \")\n",
    "    noun3 = input(\"Choose a noun:\")\n",
    "    print(\"______________________________\")\n",
    "    print (\"Be kind to your\",noun,\"- footed\", p_noun)\n",
    "\n",
    "    print (\"For a duck may be somebody's\", noun2,\",\")\n",
    "    print (\"Be kind to your\",p_noun,\"in\",place)\n",
    "    print (\"Where the weather is always\",adjective,\".\")\n",
    "    print ()\n",
    "    print (\"You may think that is this the\",noun3,\",\")\n",
    "    print (\"Well it is.\")\n",
    "    print (\"------------------------------------------\")\n",
    "loop = loop + 1\n"
   ]
  },
  {
   "cell_type": "code",
   "execution_count": null,
   "metadata": {},
   "outputs": [],
   "source": []
  }
 ],
 "metadata": {
  "kernelspec": {
   "display_name": "Python 3.10.6 64-bit (windows store)",
   "language": "python",
   "name": "python3"
  },
  "language_info": {
   "codemirror_mode": {
    "name": "ipython",
    "version": 3
   },
   "file_extension": ".py",
   "mimetype": "text/x-python",
   "name": "python",
   "nbconvert_exporter": "python",
   "pygments_lexer": "ipython3",
   "version": "3.10.6"
  },
  "orig_nbformat": 4,
  "vscode": {
   "interpreter": {
    "hash": "486e0d5a79acdbfffd563ee7a67a93a5017bd2a4f66495483a69f0245c8a4a6c"
   }
  }
 },
 "nbformat": 4,
 "nbformat_minor": 2
}
